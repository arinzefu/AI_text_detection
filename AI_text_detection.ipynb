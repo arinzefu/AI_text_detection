{
 "cells": [
  {
   "cell_type": "code",
   "execution_count": 1,
   "id": "initial_id",
   "metadata": {
    "collapsed": true,
    "ExecuteTime": {
     "end_time": "2023-11-17T09:54:10.206416400Z",
     "start_time": "2023-11-17T09:53:14.054265500Z"
    }
   },
   "outputs": [],
   "source": [
    "import torch\n",
    "import torch.nn as nn\n",
    "import torch.optim as optim\n",
    "from torch.utils.data import DataLoader\n",
    "from transformers import AutoTokenizer\n",
    "import pandas as pd\n",
    "import numpy as np"
   ]
  },
  {
   "cell_type": "code",
   "execution_count": 2,
   "outputs": [],
   "source": [
    "data = pd.read_csv('Training_Essay_Data.csv')"
   ],
   "metadata": {
    "collapsed": false,
    "ExecuteTime": {
     "end_time": "2023-11-17T09:54:11.216613300Z",
     "start_time": "2023-11-17T09:54:10.204906800Z"
    }
   },
   "id": "c39e3f85248d038"
  },
  {
   "cell_type": "code",
   "execution_count": 3,
   "outputs": [
    {
     "data": {
      "text/plain": "                                                text  generated\n0  Car-free cities have become a subject of incre...          1\n1  Car Free Cities  Car-free cities, a concept ga...          1\n2    A Sustainable Urban Future  Car-free cities ...          1\n3    Pioneering Sustainable Urban Living  In an e...          1\n4    The Path to Sustainable Urban Living  In an ...          1",
      "text/html": "<div>\n<style scoped>\n    .dataframe tbody tr th:only-of-type {\n        vertical-align: middle;\n    }\n\n    .dataframe tbody tr th {\n        vertical-align: top;\n    }\n\n    .dataframe thead th {\n        text-align: right;\n    }\n</style>\n<table border=\"1\" class=\"dataframe\">\n  <thead>\n    <tr style=\"text-align: right;\">\n      <th></th>\n      <th>text</th>\n      <th>generated</th>\n    </tr>\n  </thead>\n  <tbody>\n    <tr>\n      <th>0</th>\n      <td>Car-free cities have become a subject of incre...</td>\n      <td>1</td>\n    </tr>\n    <tr>\n      <th>1</th>\n      <td>Car Free Cities  Car-free cities, a concept ga...</td>\n      <td>1</td>\n    </tr>\n    <tr>\n      <th>2</th>\n      <td>A Sustainable Urban Future  Car-free cities ...</td>\n      <td>1</td>\n    </tr>\n    <tr>\n      <th>3</th>\n      <td>Pioneering Sustainable Urban Living  In an e...</td>\n      <td>1</td>\n    </tr>\n    <tr>\n      <th>4</th>\n      <td>The Path to Sustainable Urban Living  In an ...</td>\n      <td>1</td>\n    </tr>\n  </tbody>\n</table>\n</div>"
     },
     "execution_count": 3,
     "metadata": {},
     "output_type": "execute_result"
    }
   ],
   "source": [
    "data.head()"
   ],
   "metadata": {
    "collapsed": false,
    "ExecuteTime": {
     "end_time": "2023-11-17T09:54:11.270694300Z",
     "start_time": "2023-11-17T09:54:11.216613300Z"
    }
   },
   "id": "6280275638544e2e"
  },
  {
   "cell_type": "code",
   "execution_count": 4,
   "outputs": [],
   "source": [
    "ai_text_generated = data['generated'].value_counts()\n"
   ],
   "metadata": {
    "collapsed": false,
    "ExecuteTime": {
     "end_time": "2023-11-17T09:54:11.271689600Z",
     "start_time": "2023-11-17T09:54:11.248989600Z"
    }
   },
   "id": "90da91030987481e"
  },
  {
   "cell_type": "code",
   "execution_count": 5,
   "outputs": [
    {
     "data": {
      "text/plain": "generated\n0    17508\n1    11637\nName: count, dtype: int64"
     },
     "execution_count": 5,
     "metadata": {},
     "output_type": "execute_result"
    }
   ],
   "source": [
    "ai_text_generated"
   ],
   "metadata": {
    "collapsed": false,
    "ExecuteTime": {
     "end_time": "2023-11-17T09:54:11.285084Z",
     "start_time": "2023-11-17T09:54:11.267181200Z"
    }
   },
   "id": "2653636aad5a8154"
  },
  {
   "cell_type": "code",
   "execution_count": 6,
   "outputs": [],
   "source": [
    "# Load a pre-trained tokenizer\n",
    "tokenizer = AutoTokenizer.from_pretrained(\"bert-base-cased\")\n"
   ],
   "metadata": {
    "collapsed": false,
    "ExecuteTime": {
     "end_time": "2023-11-17T09:54:11.489377900Z",
     "start_time": "2023-11-17T09:54:11.280098Z"
    }
   },
   "id": "b86f2de391032a60"
  },
  {
   "cell_type": "code",
   "execution_count": 7,
   "outputs": [],
   "source": [
    "#Tokenize the dataset\n",
    "input_ids = []\n",
    "attention_mask = []\n",
    "for index, text in enumerate(data['text']):\n",
    "    tokenized = tokenizer(text, padding=\"max_length\", truncation=True, max_length=256)\n",
    "    input_ids.append(tokenized[\"input_ids\"])\n",
    "    attention_mask.append(tokenized[\"attention_mask\"])      \n"
   ],
   "metadata": {
    "collapsed": false,
    "ExecuteTime": {
     "end_time": "2023-11-17T09:54:51.828079300Z",
     "start_time": "2023-11-17T09:54:11.468328100Z"
    }
   },
   "id": "d577e640dc8d26ad"
  },
  {
   "cell_type": "code",
   "execution_count": 8,
   "outputs": [],
   "source": [
    "\n",
    "input_ids = torch.tensor(input_ids, dtype=torch.long)\n",
    "attention_mask = torch.tensor(attention_mask, dtype=torch.long)\n",
    "labels = torch.tensor(data[\"generated\"].values, dtype=torch.long)\n"
   ],
   "metadata": {
    "collapsed": false,
    "ExecuteTime": {
     "end_time": "2023-11-17T09:54:53.075447900Z",
     "start_time": "2023-11-17T09:54:52.391186700Z"
    }
   },
   "id": "10a430e4e086f86f"
  },
  {
   "cell_type": "code",
   "execution_count": 9,
   "outputs": [
    {
     "name": "stdout",
     "output_type": "stream",
     "text": [
      "tensor([[  101,  8185,   118,  ...,  7562,  2116,   102],\n",
      "        [  101,  8185,  4299,  ...,  1468,   119,   102],\n",
      "        [  101,   138, 21779,  ...,  1105,  2043,   102],\n",
      "        ...,\n",
      "        [  101,  1247,   112,  ...,  1103,  5072,   102],\n",
      "        [  101,  1249,  1195,  ...,  3702,  1403,   102],\n",
      "        [  101, 16644,  1138,  ...,  1103, 11738,   102]])\n"
     ]
    }
   ],
   "source": [
    "print(input_ids)"
   ],
   "metadata": {
    "collapsed": false,
    "ExecuteTime": {
     "end_time": "2023-11-17T09:54:53.154585400Z",
     "start_time": "2023-11-17T09:54:53.077445200Z"
    }
   },
   "id": "dd72a1f763a2b367"
  },
  {
   "cell_type": "code",
   "execution_count": 10,
   "outputs": [
    {
     "name": "stdout",
     "output_type": "stream",
     "text": [
      "tensor([[1, 1, 1,  ..., 1, 1, 1],\n",
      "        [1, 1, 1,  ..., 1, 1, 1],\n",
      "        [1, 1, 1,  ..., 1, 1, 1],\n",
      "        ...,\n",
      "        [1, 1, 1,  ..., 1, 1, 1],\n",
      "        [1, 1, 1,  ..., 1, 1, 1],\n",
      "        [1, 1, 1,  ..., 1, 1, 1]])\n"
     ]
    }
   ],
   "source": [
    "print(attention_mask)"
   ],
   "metadata": {
    "collapsed": false,
    "ExecuteTime": {
     "end_time": "2023-11-17T09:54:53.245076900Z",
     "start_time": "2023-11-17T09:54:53.154585400Z"
    }
   },
   "id": "c0ceef961fc10c89"
  },
  {
   "cell_type": "code",
   "execution_count": 11,
   "outputs": [],
   "source": [
    "from sklearn.model_selection import train_test_split"
   ],
   "metadata": {
    "collapsed": false,
    "ExecuteTime": {
     "end_time": "2023-11-17T09:54:55.719327900Z",
     "start_time": "2023-11-17T09:54:53.169780400Z"
    }
   },
   "id": "743ab5b1d7c8e25b"
  },
  {
   "cell_type": "code",
   "execution_count": 12,
   "outputs": [],
   "source": [
    "# Split set\n",
    "batch_size = 16\n",
    "tokenized_dataset = torch.utils.data.TensorDataset(input_ids, attention_mask, labels)\n",
    "train_data, test_data = train_test_split(tokenized_dataset, test_size=0.2, random_state=42)\n",
    "val_data, test_data = train_test_split(test_data, test_size=0.5, random_state=42)\n",
    "\n"
   ],
   "metadata": {
    "collapsed": false,
    "ExecuteTime": {
     "end_time": "2023-11-17T09:54:56.090186200Z",
     "start_time": "2023-11-17T09:54:55.720344200Z"
    }
   },
   "id": "36fb1d38ee0b42a"
  },
  {
   "cell_type": "code",
   "execution_count": 13,
   "outputs": [],
   "source": [
    "# Create DataLoaders for training, validation, and test\n",
    "train_dataloader = DataLoader(train_data, batch_size=batch_size, shuffle=True)\n",
    "val_dataloader = DataLoader(val_data, batch_size=batch_size)\n",
    "test_dataloader = DataLoader(test_data, batch_size=batch_size)"
   ],
   "metadata": {
    "collapsed": false,
    "ExecuteTime": {
     "end_time": "2023-11-17T09:54:56.102758100Z",
     "start_time": "2023-11-17T09:54:56.092210400Z"
    }
   },
   "id": "d8c9552f31b3bad7"
  },
  {
   "cell_type": "code",
   "execution_count": 14,
   "outputs": [
    {
     "name": "stdout",
     "output_type": "stream",
     "text": [
      "Batch 0 - Input IDs: tensor([[  101, 17408,   131,  ...,  6818,  1116,   102],\n",
      "        [  101,  9953, 21804,  ...,  3337, 25677,   102],\n",
      "        [  101,  1109,  8366,  ..., 11270,  1654,   102],\n",
      "        ...,\n",
      "        [  101,  1109,  1642,  ...,  1437,  1128,   102],\n",
      "        [  101, 11772,   131,  ...,  2108, 10238,   102],\n",
      "        [  101,   146,  1341,  ...,     0,     0,     0]])\n",
      "Batch 0 - Attention Mask: tensor([[1, 1, 1,  ..., 1, 1, 1],\n",
      "        [1, 1, 1,  ..., 1, 1, 1],\n",
      "        [1, 1, 1,  ..., 1, 1, 1],\n",
      "        ...,\n",
      "        [1, 1, 1,  ..., 1, 1, 1],\n",
      "        [1, 1, 1,  ..., 1, 1, 1],\n",
      "        [1, 1, 1,  ..., 0, 0, 0]])\n",
      "Batch 0 - Labels: tensor([1, 1, 1, 1, 0, 0, 1, 1, 0, 1, 1, 0, 0, 0, 1, 0])\n"
     ]
    }
   ],
   "source": [
    "for batch_idx, batch in enumerate(train_dataloader):\n",
    "    if batch_idx == 0:\n",
    "        input_ids, attention_mask, labels = batch\n",
    "        # Print or process the first batch here\n",
    "        print(\"Batch 0 - Input IDs:\", input_ids)\n",
    "        print(\"Batch 0 - Attention Mask:\", attention_mask)\n",
    "        print(\"Batch 0 - Labels:\", labels)\n",
    "        break  # Stop after processing the first batch\n"
   ],
   "metadata": {
    "collapsed": false,
    "ExecuteTime": {
     "end_time": "2023-11-17T09:54:56.145009700Z",
     "start_time": "2023-11-17T09:54:56.112816400Z"
    }
   },
   "id": "226775201e019054"
  },
  {
   "cell_type": "code",
   "execution_count": 15,
   "outputs": [],
   "source": [
    "from transformers import BertModel, BertTokenizer\n",
    "import torch.nn as nn\n",
    "\n",
    "class AITextDetectionModel(nn.Module):\n",
    "    def __init__(self, num_classes=2):\n",
    "        super(AITextDetectionModel, self).__init__()\n",
    "        self.bert = BertModel.from_pretrained('bert-base-uncased')\n",
    "        self.tokenizer = BertTokenizer.from_pretrained('bert-base-uncased')\n",
    "        self.dropout = nn.Dropout(0.1)\n",
    "        self.fc = nn.Linear(self.bert.config.hidden_size, num_classes)\n",
    "\n",
    "    def forward(self, input_ids, attention_mask):\n",
    "        outputs = self.bert(input_ids=input_ids, attention_mask=attention_mask)\n",
    "        pooled_output = outputs.pooler_output  \n",
    "        pooled_output = self.dropout(pooled_output)\n",
    "        logits = self.fc(pooled_output)\n",
    "        return logits\n"
   ],
   "metadata": {
    "collapsed": false,
    "ExecuteTime": {
     "end_time": "2023-11-17T09:54:56.294718500Z",
     "start_time": "2023-11-17T09:54:56.150076600Z"
    }
   },
   "id": "17eb78e427d17de0"
  },
  {
   "cell_type": "code",
   "execution_count": 16,
   "outputs": [],
   "source": [
    "device = torch.device(\"cuda\")"
   ],
   "metadata": {
    "collapsed": false,
    "ExecuteTime": {
     "end_time": "2023-11-17T09:54:56.310255500Z",
     "start_time": "2023-11-17T09:54:56.294718500Z"
    }
   },
   "id": "9ceac61227db25f5"
  },
  {
   "cell_type": "code",
   "execution_count": 17,
   "outputs": [],
   "source": [
    "# instantiate your model\n",
    "AI_text_model = AITextDetectionModel(num_classes=2).to(device)"
   ],
   "metadata": {
    "collapsed": false,
    "ExecuteTime": {
     "end_time": "2023-11-17T09:55:02.439746700Z",
     "start_time": "2023-11-17T09:54:56.310255500Z"
    }
   },
   "id": "a1b3ecbd42871422"
  },
  {
   "cell_type": "code",
   "execution_count": 18,
   "outputs": [
    {
     "name": "stdout",
     "output_type": "stream",
     "text": [
      "AITextDetectionModel(\n",
      "  (bert): BertModel(\n",
      "    (embeddings): BertEmbeddings(\n",
      "      (word_embeddings): Embedding(30522, 768, padding_idx=0)\n",
      "      (position_embeddings): Embedding(512, 768)\n",
      "      (token_type_embeddings): Embedding(2, 768)\n",
      "      (LayerNorm): LayerNorm((768,), eps=1e-12, elementwise_affine=True)\n",
      "      (dropout): Dropout(p=0.1, inplace=False)\n",
      "    )\n",
      "    (encoder): BertEncoder(\n",
      "      (layer): ModuleList(\n",
      "        (0-11): 12 x BertLayer(\n",
      "          (attention): BertAttention(\n",
      "            (self): BertSelfAttention(\n",
      "              (query): Linear(in_features=768, out_features=768, bias=True)\n",
      "              (key): Linear(in_features=768, out_features=768, bias=True)\n",
      "              (value): Linear(in_features=768, out_features=768, bias=True)\n",
      "              (dropout): Dropout(p=0.1, inplace=False)\n",
      "            )\n",
      "            (output): BertSelfOutput(\n",
      "              (dense): Linear(in_features=768, out_features=768, bias=True)\n",
      "              (LayerNorm): LayerNorm((768,), eps=1e-12, elementwise_affine=True)\n",
      "              (dropout): Dropout(p=0.1, inplace=False)\n",
      "            )\n",
      "          )\n",
      "          (intermediate): BertIntermediate(\n",
      "            (dense): Linear(in_features=768, out_features=3072, bias=True)\n",
      "            (intermediate_act_fn): GELUActivation()\n",
      "          )\n",
      "          (output): BertOutput(\n",
      "            (dense): Linear(in_features=3072, out_features=768, bias=True)\n",
      "            (LayerNorm): LayerNorm((768,), eps=1e-12, elementwise_affine=True)\n",
      "            (dropout): Dropout(p=0.1, inplace=False)\n",
      "          )\n",
      "        )\n",
      "      )\n",
      "    )\n",
      "    (pooler): BertPooler(\n",
      "      (dense): Linear(in_features=768, out_features=768, bias=True)\n",
      "      (activation): Tanh()\n",
      "    )\n",
      "  )\n",
      "  (dropout): Dropout(p=0.1, inplace=False)\n",
      "  (fc): Linear(in_features=768, out_features=2, bias=True)\n",
      ")\n"
     ]
    }
   ],
   "source": [
    "print(AI_text_model)"
   ],
   "metadata": {
    "collapsed": false,
    "ExecuteTime": {
     "end_time": "2023-11-17T09:55:02.463946500Z",
     "start_time": "2023-11-17T09:55:02.441630600Z"
    }
   },
   "id": "ead5718b1b68faa4"
  },
  {
   "cell_type": "code",
   "execution_count": 19,
   "outputs": [],
   "source": [
    "# define loss function\n",
    "criterion = nn.CrossEntropyLoss()\n",
    "\n",
    "# define optimizer\n",
    "optimizer = torch.optim.Adam(AI_text_model.parameters(), lr=0.01)"
   ],
   "metadata": {
    "collapsed": false,
    "ExecuteTime": {
     "end_time": "2023-11-17T09:55:03.029687700Z",
     "start_time": "2023-11-17T09:55:02.458908600Z"
    }
   },
   "id": "49833b0e65d80582"
  },
  {
   "cell_type": "code",
   "execution_count": 20,
   "outputs": [
    {
     "name": "stderr",
     "output_type": "stream",
     "text": [
      "Epoch 1/5:  34%|███▍      | 500/1458 [2:33:35<4:54:58, 18.47s/it]"
     ]
    },
    {
     "name": "stdout",
     "output_type": "stream",
     "text": [
      "Train Loss: 1.048, Train Acc: 0.528\r"
     ]
    },
    {
     "name": "stderr",
     "output_type": "stream",
     "text": [
      "Epoch 1/5:  69%|██████▊   | 1000/1458 [5:06:55<2:19:40, 18.30s/it]"
     ]
    },
    {
     "name": "stdout",
     "output_type": "stream",
     "text": [
      "Train Loss: 1.001, Train Acc: 0.525\r"
     ]
    },
    {
     "name": "stderr",
     "output_type": "stream",
     "text": [
      "Epoch 1/5: 100%|██████████| 1458/1458 [7:26:44<00:00, 18.38s/it]  \n"
     ]
    },
    {
     "name": "stdout",
     "output_type": "stream",
     "text": [
      "Epoch 1, Train Loss: 0.974, Train Acc: 0.524\n",
      "Epoch 1 finished\n"
     ]
    },
    {
     "name": "stderr",
     "output_type": "stream",
     "text": [
      "Epoch 2/5:  34%|███▍      | 500/1458 [2:32:57<4:53:01, 18.35s/it]"
     ]
    },
    {
     "name": "stdout",
     "output_type": "stream",
     "text": [
      "Train Loss: 1.099, Train Acc: 0.520\r"
     ]
    },
    {
     "name": "stderr",
     "output_type": "stream",
     "text": [
      "Epoch 2/5:  69%|██████▊   | 1000/1458 [5:06:01<2:20:00, 18.34s/it]"
     ]
    },
    {
     "name": "stdout",
     "output_type": "stream",
     "text": [
      "Train Loss: 1.029, Train Acc: 0.521\r"
     ]
    },
    {
     "name": "stderr",
     "output_type": "stream",
     "text": [
      "Epoch 2/5: 100%|██████████| 1458/1458 [7:25:42<00:00, 18.34s/it]  \n"
     ]
    },
    {
     "name": "stdout",
     "output_type": "stream",
     "text": [
      "Epoch 2, Train Loss: 1.025, Train Acc: 0.522\n",
      "Epoch 2 finished\n"
     ]
    },
    {
     "name": "stderr",
     "output_type": "stream",
     "text": [
      "Epoch 3/5:  34%|███▍      | 500/1458 [2:32:46<4:52:55, 18.35s/it]"
     ]
    },
    {
     "name": "stdout",
     "output_type": "stream",
     "text": [
      "Train Loss: 0.932, Train Acc: 0.536\r"
     ]
    },
    {
     "name": "stderr",
     "output_type": "stream",
     "text": [
      "Epoch 3/5:  69%|██████▊   | 1000/1458 [5:05:02<2:18:58, 18.21s/it]"
     ]
    },
    {
     "name": "stdout",
     "output_type": "stream",
     "text": [
      "Train Loss: 0.957, Train Acc: 0.536\r"
     ]
    },
    {
     "name": "stderr",
     "output_type": "stream",
     "text": [
      "Epoch 3/5: 100%|██████████| 1458/1458 [7:23:43<00:00, 18.26s/it]  \n"
     ]
    },
    {
     "name": "stdout",
     "output_type": "stream",
     "text": [
      "Epoch 3, Train Loss: 0.986, Train Acc: 0.531\n",
      "Epoch 3 finished\n"
     ]
    },
    {
     "name": "stderr",
     "output_type": "stream",
     "text": [
      "Epoch 4/5:  34%|███▍      | 500/1458 [2:32:19<4:49:32, 18.13s/it]"
     ]
    },
    {
     "name": "stdout",
     "output_type": "stream",
     "text": [
      "Train Loss: 1.057, Train Acc: 0.523\r"
     ]
    },
    {
     "name": "stderr",
     "output_type": "stream",
     "text": [
      "Epoch 4/5:  69%|██████▊   | 1000/1458 [5:04:37<2:21:33, 18.55s/it]"
     ]
    },
    {
     "name": "stdout",
     "output_type": "stream",
     "text": [
      "Train Loss: 1.024, Train Acc: 0.529\r"
     ]
    },
    {
     "name": "stderr",
     "output_type": "stream",
     "text": [
      "Epoch 4/5: 100%|██████████| 1458/1458 [7:26:00<00:00, 18.35s/it]  \n"
     ]
    },
    {
     "name": "stdout",
     "output_type": "stream",
     "text": [
      "Epoch 4, Train Loss: 1.016, Train Acc: 0.525\n",
      "Epoch 4 finished\n"
     ]
    },
    {
     "name": "stderr",
     "output_type": "stream",
     "text": [
      "Epoch 5/5:  34%|███▍      | 500/1458 [2:33:26<4:52:17, 18.31s/it]"
     ]
    },
    {
     "name": "stdout",
     "output_type": "stream",
     "text": [
      "Train Loss: 1.020, Train Acc: 0.530\r"
     ]
    },
    {
     "name": "stderr",
     "output_type": "stream",
     "text": [
      "Epoch 5/5:  69%|██████▊   | 1000/1458 [5:07:34<2:20:04, 18.35s/it]"
     ]
    },
    {
     "name": "stdout",
     "output_type": "stream",
     "text": [
      "Train Loss: 1.041, Train Acc: 0.520\r"
     ]
    },
    {
     "name": "stderr",
     "output_type": "stream",
     "text": [
      "Epoch 5/5: 100%|██████████| 1458/1458 [7:28:04<00:00, 18.44s/it]  "
     ]
    },
    {
     "name": "stdout",
     "output_type": "stream",
     "text": [
      "Epoch 5, Train Loss: 1.013, Train Acc: 0.524\n",
      "Epoch 5 finished\n"
     ]
    },
    {
     "name": "stderr",
     "output_type": "stream",
     "text": [
      "\n"
     ]
    }
   ],
   "source": [
    "from tqdm import tqdm\n",
    "num_epochs = 5\n",
    "print_interval = 500  \n",
    "\n",
    "for epoch in range(num_epochs):\n",
    "    running_loss = 0.0\n",
    "    correct_predictions = 0\n",
    "    total_predictions = 0\n",
    "    counter = 0  \n",
    "\n",
    "    for batch in tqdm(train_dataloader, desc=f'Epoch {epoch + 1}/{num_epochs}'):\n",
    "        # Unpack the batch into input_ids, attention_mask, and labels\n",
    "        input_ids, attention_mask, labels = [tensor.to(device) for tensor in batch]\n",
    "\n",
    "        # zero the parameter gradients\n",
    "        optimizer.zero_grad()\n",
    "\n",
    "        # forward + backward + optimize\n",
    "        outputs = AI_text_model(input_ids=input_ids, attention_mask=attention_mask)\n",
    "        loss = criterion(outputs, labels)\n",
    "        loss.backward()\n",
    "        optimizer.step()\n",
    "\n",
    "        # calculate accuracy\n",
    "        _, predicted = torch.max(outputs.data, 1)\n",
    "        total_predictions += labels.size(0)\n",
    "        correct_predictions += (predicted == labels).sum().item()\n",
    "\n",
    "        # print running loss for each batch after every 500 iterations\n",
    "        running_loss += loss.item()\n",
    "        counter += 1\n",
    "\n",
    "        if counter % print_interval == 0 or counter == len(train_dataloader):\n",
    "            avg_loss = running_loss / counter\n",
    "            avg_acc = correct_predictions / total_predictions\n",
    "            tqdm.write(f'Train Loss: {avg_loss:.3f}, Train Acc: {avg_acc:.3f}', end='\\r')\n",
    "\n",
    "    # Print at the end of each epoch\n",
    "    tqdm.write(f'Epoch {epoch+1}, Train Loss: {avg_loss:.3f}, Train Acc: {avg_acc:.3f}')\n",
    "    print(f\"Epoch {epoch+1} finished\")\n"
   ],
   "metadata": {
    "collapsed": false,
    "ExecuteTime": {
     "end_time": "2023-11-18T23:05:17.877428700Z",
     "start_time": "2023-11-17T09:55:03.036130700Z"
    }
   },
   "id": "560365ad4f5bc337"
  },
  {
   "cell_type": "code",
   "execution_count": 21,
   "outputs": [
    {
     "name": "stdout",
     "output_type": "stream",
     "text": [
      "Validation Loss: 1.359, Validation Acc: 0.612\n"
     ]
    }
   ],
   "source": [
    "# Validation loop\n",
    "with torch.no_grad():\n",
    "    AI_text_model.eval()  # Set the model to evaluation mode\n",
    "    valid_loss = 0.0\n",
    "    correct_predictions = 0\n",
    "    total_predictions = 0\n",
    "    for batch in val_dataloader:\n",
    "        # Unpack the batch into input_ids, attention_mask, and labels\n",
    "        input_ids, attention_mask, labels = [tensor.to(device) for tensor in batch]\n",
    "\n",
    "        # forward\n",
    "        outputs = AI_text_model(input_ids=input_ids, attention_mask=attention_mask)\n",
    "        loss = criterion(outputs, labels)\n",
    "\n",
    "        # calculate accuracy\n",
    "        _, predicted = torch.max(outputs.data, 1)\n",
    "        total_predictions += labels.size(0)\n",
    "        correct_predictions += (predicted == labels).sum().item()\n",
    "\n",
    "        # calculate running loss\n",
    "        valid_loss += loss.item()\n",
    "\n",
    "    avg_loss = valid_loss / len(val_dataloader)\n",
    "    avg_acc = correct_predictions / total_predictions\n",
    "    print(f'Validation Loss: {avg_loss:.3f}, Validation Acc: {avg_acc:.3f}')"
   ],
   "metadata": {
    "collapsed": false,
    "ExecuteTime": {
     "end_time": "2023-11-18T23:12:48.608504700Z",
     "start_time": "2023-11-18T23:05:17.844484100Z"
    }
   },
   "id": "589c79c764771fb8"
  },
  {
   "cell_type": "code",
   "execution_count": 22,
   "outputs": [
    {
     "name": "stdout",
     "output_type": "stream",
     "text": [
      "Test Loss: 1.398, Test Acc: 0.602\n"
     ]
    }
   ],
   "source": [
    "# Test loop\n",
    "with torch.no_grad():\n",
    "    AI_text_model.eval()  # Set the model to evaluation mode\n",
    "    test_loss = 0.0\n",
    "    correct_predictions = 0\n",
    "    total_predictions = 0\n",
    "    for batch in test_dataloader:\n",
    "        # Unpack the batch into input_ids, attention_mask, and labels\n",
    "        input_ids, attention_mask, labels = [tensor.to(device) for tensor in batch]\n",
    "\n",
    "        # forward\n",
    "        outputs = AI_text_model(input_ids=input_ids, attention_mask=attention_mask)\n",
    "        loss = criterion(outputs, labels)\n",
    "\n",
    "        # calculate accuracy\n",
    "        _, predicted = torch.max(outputs.data, 1)\n",
    "        total_predictions += labels.size(0)\n",
    "        correct_predictions += (predicted == labels).sum().item()\n",
    "\n",
    "        # calculate running loss\n",
    "        test_loss += loss.item()\n",
    "\n",
    "    avg_loss = test_loss / len(test_dataloader)\n",
    "    avg_acc = correct_predictions / total_predictions\n",
    "    print(f'Test Loss: {avg_loss:.3f}, Test Acc: {avg_acc:.3f}')"
   ],
   "metadata": {
    "collapsed": false,
    "ExecuteTime": {
     "end_time": "2023-11-18T23:20:19.458284800Z",
     "start_time": "2023-11-18T23:12:48.616490600Z"
    }
   },
   "id": "dc943ad8c970de31"
  },
  {
   "cell_type": "code",
   "execution_count": 23,
   "outputs": [],
   "source": [
    "# save the model\n",
    "torch.save(AI_text_model.state_dict(), 'ai_text_model.pth')"
   ],
   "metadata": {
    "collapsed": false,
    "ExecuteTime": {
     "end_time": "2023-11-19T01:06:20.787407200Z",
     "start_time": "2023-11-19T01:06:19.587415300Z"
    }
   },
   "id": "3c5c2a9c3e9efb89"
  },
  {
   "cell_type": "code",
   "execution_count": 28,
   "outputs": [
    {
     "name": "stdout",
     "output_type": "stream",
     "text": [
      "Sample text:   Our brain is so powerful that it can easily imagine scenarios and make use of our senses. The job of such an essay is to appeal to our senses in a way that it creates an image in our minds. Hence a descriptive essay plays with at least one of our five senses (touch, smell, taste, hearing, sight).\n",
      "Predicted label: NOT AI\n",
      "Confidence - NOT AI: 96.81%\n",
      "Confidence - AI TEXT: 3.19%\n"
     ]
    }
   ],
   "source": [
    "\n",
    "\n",
    "# Sample text to evaluate\n",
    "sample_text = \"  Our brain is so powerful that it can easily imagine scenarios and make use of our senses. The job of such an essay is to appeal to our senses in a way that it creates an image in our minds. Hence a descriptive essay plays with at least one of our five senses (touch, smell, taste, hearing, sight).\"\n",
    "\n",
    "# List to store input IDs and attention masks\n",
    "input_ids = []\n",
    "attention_mask = []\n",
    "\n",
    "# Tokenize and preprocess the sample text\n",
    "tokenized = tokenizer(sample_text, padding=\"max_length\", truncation=True, max_length=512)\n",
    "input_ids.append(tokenized[\"input_ids\"])\n",
    "attention_mask.append(tokenized[\"attention_mask\"])\n",
    "\n",
    "# Convert input_ids and attention_mask to PyTorch Tensors\n",
    "input_ids = torch.tensor(input_ids, dtype=torch.long)\n",
    "attention_mask = torch.tensor(attention_mask, dtype=torch.long)\n",
    "\n",
    "# Set the model to evaluation mode\n",
    "AI_text_model.eval()\n",
    "\n",
    "input_ids = input_ids.to(device)\n",
    "attention_mask = attention_mask.to(device)\n",
    "\n",
    "# Forward pass\n",
    "with torch.no_grad():\n",
    "    outputs = AI_text_model(input_ids=input_ids, attention_mask=attention_mask)\n",
    "    predicted_class = torch.argmax(outputs, dim=1).item()\n",
    "\n",
    "# Define class labels (0 for fake, 1 for real)\n",
    "class_labels = [\"NOT AI\", \"AI TEXT\"]\n",
    "\n",
    "# Get the predicted label\n",
    "predicted_label = class_labels[predicted_class]\n",
    "\n",
    "# Get the probability scores\n",
    "probability_scores = torch.softmax(outputs, dim=1)\n",
    "fake_probability = probability_scores[0][0].item()\n",
    "real_probability = probability_scores[0][1].item()\n",
    "\n",
    "# Print the result\n",
    "print(f\"Sample text: {sample_text}\")\n",
    "print(f\"Predicted label: {predicted_label}\")\n",
    "print(f\"Confidence - NOT AI: {fake_probability * 100:.2f}%\")\n",
    "print(f\"Confidence - AI TEXT: {real_probability * 100:.2f}%\")\n"
   ],
   "metadata": {
    "collapsed": false,
    "ExecuteTime": {
     "end_time": "2023-11-19T01:24:22.811364200Z",
     "start_time": "2023-11-19T01:24:22.157975800Z"
    }
   },
   "id": "ef2b11902a6a52a4"
  }
 ],
 "metadata": {
  "kernelspec": {
   "display_name": "Python 3",
   "language": "python",
   "name": "python3"
  },
  "language_info": {
   "codemirror_mode": {
    "name": "ipython",
    "version": 2
   },
   "file_extension": ".py",
   "mimetype": "text/x-python",
   "name": "python",
   "nbconvert_exporter": "python",
   "pygments_lexer": "ipython2",
   "version": "2.7.6"
  }
 },
 "nbformat": 4,
 "nbformat_minor": 5
}
